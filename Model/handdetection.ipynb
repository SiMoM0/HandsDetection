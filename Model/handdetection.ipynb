{
  "nbformat": 4,
  "nbformat_minor": 0,
  "metadata": {
    "colab": {
      "name": "handdetection.ipynb",
      "provenance": [],
      "collapsed_sections": []
    },
    "kernelspec": {
      "name": "python3",
      "display_name": "Python 3"
    },
    "language_info": {
      "name": "python"
    }
  },
  "cells": [
    {
      "cell_type": "markdown",
      "source": [
        "# Hand Detection\n",
        "\n",
        "Computer Vision project "
      ],
      "metadata": {
        "id": "z6NSLk47Xo9F"
      }
    },
    {
      "cell_type": "markdown",
      "source": [
        "Packages required"
      ],
      "metadata": {
        "id": "UX1UktHNXsBE"
      }
    },
    {
      "cell_type": "code",
      "execution_count": null,
      "metadata": {
        "id": "zaw3aR2wXkYX"
      },
      "outputs": [],
      "source": [
        "import os\n",
        "import cv2\n",
        "import scipy.io\n",
        "from pathlib import Path\n",
        "import numpy as np\n",
        "import matplotlib.pyplot as plt\n",
        "import tensorflow\n",
        "from tensorflow import keras\n",
        "\n",
        "#mat files\n",
        "!pip install mat4py\n",
        "from mat4py import loadmat"
      ]
    },
    {
      "cell_type": "markdown",
      "source": [
        "### Download Dataset"
      ],
      "metadata": {
        "id": "TqhxQXuUYJnV"
      }
    },
    {
      "cell_type": "markdown",
      "source": [
        "The dataset (https://www.robots.ox.ac.uk/~vgg/data/hands/) wiil be placed in the *dataset* folder and it has the following structure:\n",
        "\n",
        "dataset\n",
        "- training_dataset\n",
        "  * training_data\n",
        "    - annotations\n",
        "    - images\n",
        "- test_dataset\n",
        "  * test_data\n",
        "    - annotations\n",
        "    - images\n",
        "- validation_dataset\n",
        "  * validation_data\n",
        "    - annotations\n",
        "    - images\n"
      ],
      "metadata": {
        "id": "Ut4xy3apcAso"
      }
    },
    {
      "cell_type": "code",
      "source": [
        "from google.colab import drive\n",
        "drive.mount('/content/drive')\n",
        "\n",
        "#create folder\n",
        "!mkdir /content/dataset\n",
        "\n",
        "#unzip into new folder folder\n",
        "!tar -xzvf '/content/drive/MyDrive/hand_dataset.tar.gz' -C '/content/dataset'"
      ],
      "metadata": {
        "id": "K8Rh3RYqYVff"
      },
      "execution_count": null,
      "outputs": []
    },
    {
      "cell_type": "markdown",
      "source": [
        "### Import Dataset\n",
        "Import the three Train, Test and Validation dataset"
      ],
      "metadata": {
        "id": "k4YZ-k6IeYF3"
      }
    },
    {
      "cell_type": "code",
      "source": [
        "#function to load a dataset from its directory\n",
        "def load_dataset(path):\n",
        "  data = []\n",
        "  images_path = os.path.join(path, 'images')\n",
        "  annotations_path = os.path.join(path, 'annotations')\n",
        "\n",
        "  for img_name in os.listdir(images_path):\n",
        "    ann_name = img_name[:-3] + 'mat'\n",
        "    try:\n",
        "      #get image\n",
        "      img = cv2.imread(os.path.join(images_path, img_name))\n",
        "      #convert to rgb\n",
        "      img = cv2.cvtColor(img, cv2.COLOR_BGR2RGB)\n",
        "      #TODO: resize image (?)\n",
        "\n",
        "      #get annotations and convert it\n",
        "      boxes = loadmat(os.path.join(annotations_path, ann_name))['boxes']\n",
        "      if type(boxes) == list:\n",
        "        annotations = [list(box.values())[:4] for box in boxes]\n",
        "      elif type(boxes) == dict:\n",
        "        annotations = list(boxes.values())\n",
        "      data.append([img, annotations])\n",
        "    except Exception as e:\n",
        "      print(e)\n",
        "  return np.array(data)\n",
        "\n",
        "\n",
        "#path of the datasets\n",
        "data_dir = Path('/content/dataset/hand_dataset')\n",
        "train_dir = os.path.join(data_dir, 'training_dataset/training_data')\n",
        "val_dir = os.path.join(data_dir, 'validation_dataset/validation_data')\n",
        "test_dir = os.path.join(data_dir, 'test_dataset/test_data')\n",
        "\n",
        "train_dataset = load_dataset(train_dir)\n",
        "val_dataset = load_dataset(val_dir)\n",
        "test_dataset = load_dataset(test_dir)"
      ],
      "metadata": {
        "id": "_Q2mvuVPeSa3"
      },
      "execution_count": null,
      "outputs": []
    },
    {
      "cell_type": "markdown",
      "source": [
        "Visualize a sample and its annoatations"
      ],
      "metadata": {
        "id": "gzHzPSErtVIq"
      }
    },
    {
      "cell_type": "code",
      "source": [
        "print('Number of annotations: ', len(train_dataset[0][1]))\n",
        "print(train_dataset[0][1])"
      ],
      "metadata": {
        "colab": {
          "base_uri": "https://localhost:8080/"
        },
        "id": "wOFB_cimmA_m",
        "outputId": "6ea4b68c-7784-4e27-ecab-be373a9a49d4"
      },
      "execution_count": 4,
      "outputs": [
        {
          "output_type": "stream",
          "name": "stdout",
          "text": [
            "Number of annotations:  4\n",
            "[[432.4696414195462, 255.7352770848963], [410.2503585804542, 272.9047229151038], [445.61035858045415, 318.66472291510377], [467.8296414195462, 301.4952770848963]]\n"
          ]
        }
      ]
    },
    {
      "cell_type": "code",
      "source": [
        "plt.imshow(train_dataset[0][0])"
      ],
      "metadata": {
        "colab": {
          "base_uri": "https://localhost:8080/",
          "height": 286
        },
        "id": "8BElvoopmbY3",
        "outputId": "9e76b6e7-c8b4-4ac9-cc28-bb7dfe2814bb"
      },
      "execution_count": 5,
      "outputs": [
        {
          "output_type": "execute_result",
          "data": {
            "text/plain": [
              "<matplotlib.image.AxesImage at 0x7f436a608f50>"
            ]
          },
          "metadata": {},
          "execution_count": 5
        },
        {
          "output_type": "display_data",
          "data": {
            "text/plain": [
              "<Figure size 432x288 with 1 Axes>"
            ],
            "image/png": "[encoded data removed]"
          },
          "metadata": {
            "needs_background": "light"
          }
        }
      ]
    },
    {
      "cell_type": "code",
      "source": [
        "def draw_boxes(img, boxes):\n",
        "  image = img.copy()\n",
        "  color = (0, 255, 0)\n",
        "  for box in boxes:\n",
        "    #upper left corner\n",
        "    start_point = (int(box[1][1]), int(box[1][0]))\n",
        "    #bottom right corner\n",
        "    end_point = (int(box[3][1]), int(box[3][0]))\n",
        "    image = cv2.rectangle(img, start_point, end_point, color, 5)\n",
        "\n",
        "  plt.imshow(image)"
      ],
      "metadata": {
        "id": "W2b7o4CLuN9n"
      },
      "execution_count": 6,
      "outputs": []
    },
    {
      "cell_type": "code",
      "source": [
        "draw_boxes(train_dataset[40][0], train_dataset[40][1])"
      ],
      "metadata": {
        "id": "b_LkIXXOvbAS"
      },
      "execution_count": null,
      "outputs": []
    },
    {
      "cell_type": "markdown",
      "source": [
        "**Dataset Structure**\n",
        "\n",
        "    dataset[0] = image and annotations\n",
        "    dataset[0][0] = image\n",
        "    dataset[0][1] = annotations"
      ],
      "metadata": {
        "id": "_RPWAdbmorcb"
      }
    },
    {
      "cell_type": "code",
      "source": [
        "# Create masked dataset for the neural network\n",
        "def create_mask(dataset):\n",
        "  masked_dataset = []\n",
        "  for element in dataset:\n",
        "    image = element[0]\n",
        "    annotation = element[1]\n",
        "    color = (0, 255, 0)\n",
        "    for box in annotation:\n",
        "      #upper left corner\n",
        "      start_point = (int(box[1][1]), int(box[1][0]))\n",
        "      #bottom right corner\n",
        "      end_point = (int(box[3][1]), int(box[3][0]))\n",
        "      newimage = np.zeros(image.shape)\n",
        "      # set element inside bounding box to 255\n",
        "      newimage[start_point[0]:end_point[0],start_point[1]:end_point[1],:] = 255    \n",
        "    masked_dataset.append(newimage)\n",
        "  return np.array(masked_dataset)\n"
      ],
      "metadata": {
        "id": "2keGK-tsHbIk"
      },
      "execution_count": null,
      "outputs": []
    },
    {
      "cell_type": "code",
      "source": [
        "masked = create_mask(train_dataset)"
      ],
      "metadata": {
        "id": "QVa6v_bvTZXS",
        "outputId": "86d48e9d-8434-41f7-e1a6-e25d5f199e69",
        "colab": {
          "base_uri": "https://localhost:8080/",
          "height": 289
        }
      },
      "execution_count": null,
      "outputs": [
        {
          "output_type": "error",
          "ename": "TypeError",
          "evalue": "ignored",
          "traceback": [
            "\u001b[0;31m---------------------------------------------------------------------------\u001b[0m",
            "\u001b[0;31mTypeError\u001b[0m                                 Traceback (most recent call last)",
            "\u001b[0;32m<ipython-input-47-cd3832fe4a8d>\u001b[0m in \u001b[0;36m<module>\u001b[0;34m()\u001b[0m\n\u001b[0;32m----> 1\u001b[0;31m \u001b[0mmasked\u001b[0m \u001b[0;34m=\u001b[0m \u001b[0mcreate_mask\u001b[0m\u001b[0;34m(\u001b[0m\u001b[0mtrain_dataset\u001b[0m\u001b[0;34m)\u001b[0m\u001b[0;34m\u001b[0m\u001b[0;34m\u001b[0m\u001b[0m\n\u001b[0m",
            "\u001b[0;32m<ipython-input-46-6d9ecaf752bb>\u001b[0m in \u001b[0;36mcreate_mask\u001b[0;34m(dataset)\u001b[0m\n\u001b[1;32m      8\u001b[0m     \u001b[0;32mfor\u001b[0m \u001b[0mbox\u001b[0m \u001b[0;32min\u001b[0m \u001b[0mannotation\u001b[0m\u001b[0;34m:\u001b[0m\u001b[0;34m\u001b[0m\u001b[0;34m\u001b[0m\u001b[0m\n\u001b[1;32m      9\u001b[0m       \u001b[0;31m#upper left corner\u001b[0m\u001b[0;34m\u001b[0m\u001b[0;34m\u001b[0m\u001b[0;34m\u001b[0m\u001b[0m\n\u001b[0;32m---> 10\u001b[0;31m       \u001b[0mstart_point\u001b[0m \u001b[0;34m=\u001b[0m \u001b[0;34m(\u001b[0m\u001b[0mint\u001b[0m\u001b[0;34m(\u001b[0m\u001b[0mbox\u001b[0m\u001b[0;34m[\u001b[0m\u001b[0;36m1\u001b[0m\u001b[0;34m]\u001b[0m\u001b[0;34m[\u001b[0m\u001b[0;36m1\u001b[0m\u001b[0;34m]\u001b[0m\u001b[0;34m)\u001b[0m\u001b[0;34m,\u001b[0m \u001b[0mint\u001b[0m\u001b[0;34m(\u001b[0m\u001b[0mbox\u001b[0m\u001b[0;34m[\u001b[0m\u001b[0;36m1\u001b[0m\u001b[0;34m]\u001b[0m\u001b[0;34m[\u001b[0m\u001b[0;36m0\u001b[0m\u001b[0;34m]\u001b[0m\u001b[0;34m)\u001b[0m\u001b[0;34m)\u001b[0m\u001b[0;34m\u001b[0m\u001b[0;34m\u001b[0m\u001b[0m\n\u001b[0m\u001b[1;32m     11\u001b[0m       \u001b[0;31m#bottom right corner\u001b[0m\u001b[0;34m\u001b[0m\u001b[0;34m\u001b[0m\u001b[0;34m\u001b[0m\u001b[0m\n\u001b[1;32m     12\u001b[0m       \u001b[0mend_point\u001b[0m \u001b[0;34m=\u001b[0m \u001b[0;34m(\u001b[0m\u001b[0mint\u001b[0m\u001b[0;34m(\u001b[0m\u001b[0mbox\u001b[0m\u001b[0;34m[\u001b[0m\u001b[0;36m3\u001b[0m\u001b[0;34m]\u001b[0m\u001b[0;34m[\u001b[0m\u001b[0;36m1\u001b[0m\u001b[0;34m]\u001b[0m\u001b[0;34m)\u001b[0m\u001b[0;34m,\u001b[0m \u001b[0mint\u001b[0m\u001b[0;34m(\u001b[0m\u001b[0mbox\u001b[0m\u001b[0;34m[\u001b[0m\u001b[0;36m3\u001b[0m\u001b[0;34m]\u001b[0m\u001b[0;34m[\u001b[0m\u001b[0;36m0\u001b[0m\u001b[0;34m]\u001b[0m\u001b[0;34m)\u001b[0m\u001b[0;34m)\u001b[0m\u001b[0;34m\u001b[0m\u001b[0;34m\u001b[0m\u001b[0m\n",
            "\u001b[0;31mTypeError\u001b[0m: 'float' object is not subscriptable"
          ]
        }
      ]
    }
  ]
}